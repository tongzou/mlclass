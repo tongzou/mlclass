{
 "cells": [
  {
   "cell_type": "code",
   "execution_count": 1,
   "metadata": {
    "collapsed": false,
    "deletable": true,
    "editable": true
   },
   "outputs": [],
   "source": [
    "import numpy as np\n",
    "\n",
    "def sigmoid (x):\n",
    "    #for s in np.nditer(x, op_flags=['readwrite']):\n",
    "    return 1 / (1 + np.exp(-x))\n",
    "\n",
    "def deriv_sig(x):\n",
    "    return sigmoid(x)*(1-sigmoid(x))"
   ]
  },
  {
   "cell_type": "code",
   "execution_count": 2,
   "metadata": {
    "collapsed": false,
    "deletable": true,
    "editable": true
   },
   "outputs": [],
   "source": [
    "input_ = np.array([[0,0,1], [1,0,1], [0,1,1], [1,1,1]])\n",
    "\n",
    "expected = np.array([[0,1,1,0]]).T\n",
    "\n",
    "w1 = np.array([[0.1, 0.2, 0.3, 0.4], [-0.3, -0.2, -0.1, -0.4], [0.3, 0.2, -0.1, -0.2]])\n",
    "\n",
    "w2 = np.array([[0.3, -0.2, 0.5, -0.4]]).T"
   ]
  },
  {
   "cell_type": "code",
   "execution_count": 3,
   "metadata": {
    "collapsed": false,
    "deletable": true,
    "editable": true
   },
   "outputs": [
    {
     "name": "stdout",
     "output_type": "stream",
     "text": [
      "[[ 0.3  0.2 -0.1 -0.2]\n",
      " [ 0.4  0.4  0.2  0.2]\n",
      " [ 0.   0.  -0.2 -0.6]\n",
      " [ 0.1  0.2  0.1 -0.2]]\n",
      "[[ 0.57444252  0.549834    0.47502081  0.450166  ]\n",
      " [ 0.59868766  0.59868766  0.549834    0.549834  ]\n",
      " [ 0.5         0.5         0.450166    0.35434369]\n",
      " [ 0.52497919  0.549834    0.52497919  0.450166  ]]\n",
      "[[ 0.52991671]\n",
      " [ 0.52868152]\n",
      " [ 0.53328707]\n",
      " [ 0.5324419 ]]\n",
      "[[ 0.14040586]\n",
      " [ 0.11107055]\n",
      " [ 0.10891048]\n",
      " [ 0.14174719]]\n"
     ]
    }
   ],
   "source": [
    "z1 = input_.dot(w1)\n",
    "print(z1)\n",
    "a1 = sigmoid(z1)\n",
    "print(a1)\n",
    "z2 = a1.dot(w2)\n",
    "a2 = sigmoid(z2)\n",
    "print(a2)\n",
    "c1 = 0.5*(a2-expected)**2   # changed from a2-1\n",
    "print (c1)"
   ]
  },
  {
   "cell_type": "code",
   "execution_count": 4,
   "metadata": {
    "collapsed": false,
    "deletable": true,
    "editable": true
   },
   "outputs": [
    {
     "name": "stdout",
     "output_type": "stream",
     "text": [
      "[[ 0.52991671]\n",
      " [-0.47131848]\n",
      " [-0.46671293]\n",
      " [ 0.5324419 ]]\n"
     ]
    }
   ],
   "source": [
    "da2 = (a2-expected)\n",
    "print (da2)"
   ]
  },
  {
   "cell_type": "code",
   "execution_count": 5,
   "metadata": {
    "collapsed": false,
    "deletable": true,
    "editable": true,
    "scrolled": false
   },
   "outputs": [
    {
     "name": "stdout",
     "output_type": "stream",
     "text": [
      "[[ 0.1320049 ]\n",
      " [-0.1174419 ]\n",
      " [-0.1161611 ]\n",
      " [ 0.13255009]]\n"
     ]
    }
   ],
   "source": [
    "dz2 = (da2*deriv_sig(z2))\n",
    "print (dz2)"
   ]
  },
  {
   "cell_type": "code",
   "execution_count": 7,
   "metadata": {
    "collapsed": false,
    "deletable": true,
    "editable": true
   },
   "outputs": [
    {
     "name": "stdout",
     "output_type": "stream",
     "text": [
      "[[ 0.03960147 -0.02640098  0.06600245 -0.05280196]\n",
      " [-0.03523257  0.02348838 -0.05872095  0.04697676]\n",
      " [-0.03484833  0.02323222 -0.05808055  0.04646444]\n",
      " [ 0.03976503 -0.02651002  0.06627505 -0.05302004]]\n"
     ]
    }
   ],
   "source": [
    "da1 = dz2.dot(w2.T)  # changed from w2.T*dz2\n",
    "print (da1)"
   ]
  },
  {
   "cell_type": "code",
   "execution_count": 8,
   "metadata": {
    "collapsed": false
   },
   "outputs": [
    {
     "name": "stdout",
     "output_type": "stream",
     "text": [
      "[[ 0.00968091 -0.00653468  0.01645943 -0.01306936]\n",
      " [-0.008465    0.00564334 -0.01453441  0.01162753]\n",
      " [-0.00871208  0.00580806 -0.0143759   0.01063033]\n",
      " [ 0.00991645 -0.00656167  0.01652741 -0.01312334]]\n"
     ]
    }
   ],
   "source": [
    "dz1 = da1*deriv_sig(z1)\n",
    "print (dz1)"
   ]
  },
  {
   "cell_type": "code",
   "execution_count": 9,
   "metadata": {
    "collapsed": false
   },
   "outputs": [
    {
     "name": "stdout",
     "output_type": "stream",
     "text": [
      "[[-0.00062876  0.00198446  0.00256527]\n",
      " [ 0.00057285 -0.00178674 -0.0022829 ]\n",
      " [ 0.00022977 -0.00136253 -0.00214049]\n",
      " [-0.0006118   0.00193399  0.00263453]]\n"
     ]
    }
   ],
   "source": [
    "dx = dz1.dot(w1.T)\n",
    "print (dx)"
   ]
  },
  {
   "cell_type": "code",
   "execution_count": 14,
   "metadata": {
    "collapsed": false
   },
   "outputs": [
    {
     "name": "stdout",
     "output_type": "stream",
     "text": [
      "[[ 0.0170237 ]\n",
      " [ 0.01706976]\n",
      " [ 0.01542579]\n",
      " [ 0.01335916]]\n"
     ]
    }
   ],
   "source": [
    "# changed from dz2*a1. dz2 is actually a vector containing all the gradients of the different input x.\n",
    "# so dw2 is actuall the sum of all the gradients\n",
    "dw2 = a1.T.dot(dz2) \n",
    "print (dw2)"
   ]
  },
  {
   "cell_type": "code",
   "execution_count": 13,
   "metadata": {
    "collapsed": false
   },
   "outputs": [
    {
     "name": "stdout",
     "output_type": "stream",
     "text": [
      "[[ 0.00145144 -0.00091833  0.001993   -0.00149581]\n",
      " [ 0.00120436 -0.00075361  0.00215151 -0.00249301]\n",
      " [ 0.00242027 -0.00164496  0.00407653 -0.00393484]]\n"
     ]
    }
   ],
   "source": [
    "dw1 = input_.T.dot(dz1) # again, dw1 is the sum of all the gradients.\n",
    "print (dw1)"
   ]
  },
  {
   "cell_type": "code",
   "execution_count": null,
   "metadata": {
    "collapsed": true
   },
   "outputs": [],
   "source": [
    ""
   ]
  }
 ],
 "metadata": {
  "anaconda-cloud": {},
  "kernelspec": {
   "display_name": "Python [default]",
   "language": "python",
   "name": "python2"
  },
  "language_info": {
   "codemirror_mode": {
    "name": "ipython",
    "version": 2.0
   },
   "file_extension": ".py",
   "mimetype": "text/x-python",
   "name": "python",
   "nbconvert_exporter": "python",
   "pygments_lexer": "ipython2",
   "version": "2.7.12"
  }
 },
 "nbformat": 4,
 "nbformat_minor": 0
}