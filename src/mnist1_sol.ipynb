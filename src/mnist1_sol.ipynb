{
 "cells": [
  {
   "cell_type": "markdown",
   "metadata": {},
   "source": [
    "# MNIST Hand Written Digits Project"
   ]
  },
  {
   "cell_type": "markdown",
   "metadata": {},
   "source": [
    "Load the data first"
   ]
  },
  {
   "cell_type": "code",
   "execution_count": 1,
   "metadata": {
    "collapsed": false
   },
   "outputs": [],
   "source": [
    "import random\n",
    "import numpy as np\n",
    "import matplotlib.pyplot as plt\n",
    "import mnist_loader\n",
    "\n",
    "training_data, training_labels, validation_data, validation_labels, test_data, test_labels = mnist_loader.load_data_wrapper()"
   ]
  },
  {
   "cell_type": "code",
   "execution_count": 2,
   "metadata": {
    "collapsed": true
   },
   "outputs": [],
   "source": [
    "'''\n",
    "This Network class is adapted from Michael Nielsen's code.\n",
    "\n",
    "A module to implement the minibatch stochastic gradient descent learning\n",
    "algorithm for a feedforward neural network.  Gradients are calculated\n",
    "using backpropagation.  Note that I have focused on making the code\n",
    "simple, easily readable, and easily modifiable.  It is not optimized,\n",
    "and omits many desirable features.\n",
    "'''\n",
    "class Network(object):\n",
    "\n",
    "    def __init__(self, sizes):\n",
    "        \"\"\"The list ``sizes`` contains the number of neurons in the\n",
    "        respective layers of the network.  For example, if the list\n",
    "        was [2, 3, 1] then it would be a three-layer network, with the\n",
    "        first layer containing 2 neurons, the second layer 3 neurons,\n",
    "        and the third layer 1 neuron.  The biases and weights for the\n",
    "        network are initialized randomly, using a Gaussian\n",
    "        distribution with mean 0, and variance 1.  Note that the first\n",
    "        layer is assumed to be an input layer, and by convention we\n",
    "        won't set any biases for those neurons, since biases are only\n",
    "        ever used in computing the outputs from later layers.\"\"\"\n",
    "        self.num_layers = len(sizes)\n",
    "        self.sizes = sizes\n",
    "        self.initialize_weights()\n",
    "\n",
    "    def initialize_weights(self):\n",
    "        self.biases = [np.random.randn(1, y) for y in self.sizes[1:]]\n",
    "        self.weights = [np.random.randn(x, y)\n",
    "                        for x, y in zip(self.sizes[:-1], self.sizes[1:])]\n",
    "\n",
    "    def SGD(self, training_data, training_labels, epochs, mini_batch_size, eta,\n",
    "            test_data=None, test_labels=None):\n",
    "        \"\"\"Train the neural network using mini-batch stochastic\n",
    "        gradient descent.  The ``training_data`` is a list of tuples\n",
    "        ``(x, y)`` representing the training inputs and the desired\n",
    "        outputs.  The other non-optional parameters are\n",
    "        self-explanatory.  If ``test_data`` is provided then the\n",
    "        network will be evaluated against the test data after each\n",
    "        epoch, and partial progress printed out.  This is useful for\n",
    "        tracking progress, but slows things down substantially.\"\"\"\n",
    "        if test_data: n_test = len(test_data)\n",
    "        n = len(training_data)\n",
    "        for j in xrange(epochs):\n",
    "            unison_shuffle(training_data, training_labels)\n",
    "            mini_batches = [\n",
    "                training_data[k:k+mini_batch_size]\n",
    "                for k in xrange(0, n, mini_batch_size)]\n",
    "            mini_batches_labels = [\n",
    "                training_labels[k:k+mini_batch_size]\n",
    "                for k in xrange(0, n, mini_batch_size)]\n",
    "            for mini_batch, mini_batch_labels in zip(mini_batches, mini_batches_labels):\n",
    "                self.update_mini_batch(mini_batch, mini_batch_labels, eta)\n",
    "            if test_data:\n",
    "                print \"Epoch {0}: {1} / {2}\".format(\n",
    "                    j, self.evaluate(test_data), n_test)\n",
    "            else:\n",
    "                print \"Epoch {0} complete\".format(j)\n",
    "\n",
    "    def update_mini_batch(self, mini_batch, mini_batch_labels, eta):\n",
    "        \"\"\"Update the network's weights and biases by applying\n",
    "        gradient descent using backpropagation to a single mini batch.\n",
    "        The ``mini_batch`` is a list of tuples ``(x, y)``, and ``eta``\n",
    "        is the learning rate.\"\"\"\n",
    "        \n",
    "        y = self.forward(mini_batch)\n",
    "        dw, db = self.backward(mini_batch, y, mini_batch_labels)\n",
    "        for i in xrange(0, self.num_layers - 1):\n",
    "            self.weights[i] -= eta * dw[i]\n",
    "            self.biases[i] -= eta * db[i]\n",
    "        \n",
    "    def forward(self, X):\n",
    "        \"\"\"Return the output of the network if ``a`` is input.\"\"\"\n",
    "        self.a = []\n",
    "        self.a.append(sigmoid(np.dot(X, self.weights[0]) + self.biases[0]))\n",
    "        for i in range(1, self.num_layers-1):\n",
    "            self.a.append(sigmoid(self.a[i-1].dot(self.weights[i]) + self.biases[i]))\n",
    "        return self.a[-1]\n",
    "    \n",
    "    def backward(self, X, y, labels):\n",
    "        \"\"\"Return a tuple ``(db, dw)`` representing the\n",
    "        gradient for the cost function C_x.  ``db`` and\n",
    "        ``dw`` are layer-by-layer lists of numpy arrays, similar\n",
    "        to ``self.biases`` and ``self.weights``.\"\"\"\n",
    "        size = len(X)\n",
    "        da = [np.zeros(a.shape) for a in self.a]\n",
    "        dz = [np.zeros(a.shape) for a in self.a]\n",
    "        db = [np.zeros(b.shape) for b in self.biases]\n",
    "        dw = [np.zeros(w.shape) for w in self.weights]\n",
    "        da[-1] = self.cost_derivative(y, labels)\n",
    "        dz[-1] = sigmoid(self.a[-1], True) * da[-1]\n",
    "        db[-1] = np.dot(np.ones((1, size)), dz[-1])/size\n",
    "        for i in range(self.num_layers - 3, -1, -1):\n",
    "            da[i] = np.dot(dz[i+1], self.weights[i+1].T)\n",
    "            dz[i] = sigmoid(self.a[i], True) * da[i]\n",
    "            db[i] = np.dot(np.ones((1, size), dtype=np.int), dz[i])/size\n",
    "            dw[i+1] = np.dot(self.a[i].T, dz[i+1])/size\n",
    "        \n",
    "        dw[0] = np.dot(np.array(X).T, dz[0])/size\n",
    "        return (dw, db)\n",
    "\n",
    "    def evaluate(self, test_data):\n",
    "        \"\"\"Return the number of test inputs for which the neural\n",
    "        network outputs the correct result. Note that the neural\n",
    "        network's output is assumed to be the index of whichever\n",
    "        neuron in the final layer has the highest activation.\"\"\"\n",
    "        #showImage(test_data[0], test_labels[0])\n",
    "        #print np.argmax(self.forward(test_data[0]))\n",
    "        test_results = [(np.argmax(self.forward(x)), y)\n",
    "                        for (x, y) in zip(test_data, test_labels)]\n",
    "        return sum(int(x == y) for (x, y) in test_results)\n",
    "\n",
    "    def cost_derivative(self, outputs, y):\n",
    "        \"\"\"Return the vector of partial derivatives \\partial C_x /\n",
    "        \\partial a for the output activations.\"\"\"\n",
    "        return (outputs-y)\n",
    "\n",
    "#### Miscellaneous functions\n",
    "def sigmoid(z, deriv=False):\n",
    "    \"\"\"The sigmoid function.\"\"\"\n",
    "    if deriv:\n",
    "        return z*(1-z)\n",
    "    return 1.0/(1.0+np.exp(-z))\n",
    "\n",
    "def unison_shuffle(a, b):\n",
    "    rng_state = np.random.get_state()\n",
    "    np.random.shuffle(a)\n",
    "    np.random.set_state(rng_state)\n",
    "    np.random.shuffle(b)\n",
    "    \n",
    "digits = np.array([[0, 1, 2, 3, 4, 5, 6, 7, 8, 9]]).T\n",
    "\n",
    "def showImage(data, label):\n",
    "    pixels = (255 - data * 255).astype(int).reshape((28,28))\n",
    "    if hasattr(label, \"__len__\"):\n",
    "        label = label.dot(digits)\n",
    "    plt.title('Label is {label}'.format(label=label))\n",
    "    plt.imshow(pixels, cmap='gray')\n",
    "    plt.show()"
   ]
  },
  {
   "cell_type": "markdown",
   "metadata": {},
   "source": [
    "Create the neural net"
   ]
  },
  {
   "cell_type": "code",
   "execution_count": 3,
   "metadata": {
    "collapsed": false
   },
   "outputs": [
    {
     "name": "stdout",
     "output_type": "stream",
     "text": [
      "Epoch 0: 7289 / 10000\n",
      "Epoch 1: 9159 / 10000\n",
      "Epoch 2: 9252 / 10000\n",
      "Epoch 3: 9333 / 10000\n",
      "Epoch 4: 9355 / 10000\n",
      "Epoch 5: 9377 / 10000\n",
      "Epoch 6: 9366 / 10000\n",
      "Epoch 7: 9390 / 10000\n",
      "Epoch 8: 9397 / 10000\n",
      "Epoch 9: 9432 / 10000\n"
     ]
    }
   ],
   "source": [
    "#showImage(training_data[0], training_labels[0])\n",
    "#print np.shape(training_labels[0:2])\n",
    "\n",
    "net = Network([784, 30, 10])\n",
    "net.SGD(training_data, training_labels, 10, 10, 3.0, test_data=test_data, test_labels=test_labels)"
   ]
  },
  {
   "cell_type": "code",
   "execution_count": null,
   "metadata": {
    "collapsed": true
   },
   "outputs": [],
   "source": []
  }
 ],
 "metadata": {
  "anaconda-cloud": {},
  "kernelspec": {
   "display_name": "Python [default]",
   "language": "python",
   "name": "python2"
  },
  "language_info": {
   "codemirror_mode": {
    "name": "ipython",
    "version": 2
   },
   "file_extension": ".py",
   "mimetype": "text/x-python",
   "name": "python",
   "nbconvert_exporter": "python",
   "pygments_lexer": "ipython2",
   "version": "2.7.12"
  }
 },
 "nbformat": 4,
 "nbformat_minor": 0
}
