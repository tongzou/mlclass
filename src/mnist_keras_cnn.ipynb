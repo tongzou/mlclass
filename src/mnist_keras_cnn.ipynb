{
 "cells": [
  {
   "cell_type": "code",
   "execution_count": 1,
   "metadata": {},
   "outputs": [],
   "source": [
    "import numpy as np\n",
    "import matplotlib.pyplot as plt\n",
    "import pickle\n",
    "import gzip\n",
    "\n",
    "def vectorized_result(j):\n",
    "    \"\"\"Return a 10-dimensional unit vector with a 1.0 in the jth\n",
    "    position and zeroes elsewhere.  This is used to convert a digit\n",
    "    (0...9) into a corresponding desired output from the neural\n",
    "    network.\"\"\"\n",
    "    e = np.zeros((10))\n",
    "    e[j] = 1.0\n",
    "    return e\n",
    "\n",
    "digits = np.array([[0, 1, 2, 3, 4, 5, 6, 7, 8, 9]]).T\n",
    "\n",
    "def showImage(data, label):\n",
    "    pixels = (255 - data * 255).astype(int).reshape(28, 28)\n",
    "    if hasattr(label, \"__len__\"):\n",
    "        label = label.dot(digits)\n",
    "    plt.title('Label is {label}'.format(label=label))\n",
    "    plt.imshow(pixels, cmap='gray')\n",
    "    plt.show()\n",
    "    \n",
    "f = gzip.open('../data/mnist.pkl.gz', 'rb')\n",
    "training_data, validation_data, test_data = pickle.load(f, encoding='latin1')\n",
    "f.close()\n",
    "\n",
    "X = np.array([np.reshape(x, (28, 28, 1)) for x in training_data[0]])\n",
    "y = np.array([vectorized_result(y) for y in training_data[1]])\n",
    "X_val = np.array([np.reshape(x, (28, 28, 1)) for x in validation_data[0]])\n",
    "y_val = np.array([vectorized_result(y) for y in validation_data[1]])\n",
    "X_test = np.array([np.reshape(x, (28, 28, 1)) for x in test_data[0]])\n",
    "y_test = np.array([vectorized_result(y) for y in test_data[1]])\n"
   ]
  },
  {
   "cell_type": "code",
   "execution_count": 2,
   "metadata": {},
   "outputs": [
    {
     "data": {
      "image/png": "[encoded data removed]",
      "text/plain": [
       "<matplotlib.figure.Figure at 0x1d6d2bc57b8>"
      ]
     },
     "metadata": {},
     "output_type": "display_data"
    }
   ],
   "source": [
    "showImage(X_test[0], y_test[0])"
   ]
  },
  {
   "cell_type": "code",
   "execution_count": 8,
   "metadata": {},
   "outputs": [
    {
     "name": "stdout",
     "output_type": "stream",
     "text": [
      "Train on 50000 samples, validate on 10000 samples\n",
      "Epoch 1/5\n",
      "50000/50000 [==============================] - 279s - loss: 0.0451 - acc: 0.6712 - val_loss: 0.0080 - val_acc: 0.9531\n",
      "Epoch 2/5\n",
      "50000/50000 [==============================] - 236s - loss: 0.0125 - acc: 0.9314 - val_loss: 0.0049 - val_acc: 0.9719\n",
      "Epoch 3/5\n",
      "50000/50000 [==============================] - 280s - loss: 0.0089 - acc: 0.9509 - val_loss: 0.0037 - val_acc: 0.9772\n",
      "Epoch 4/5\n",
      "50000/50000 [==============================] - 347s - loss: 0.0072 - acc: 0.9607 - val_loss: 0.0034 - val_acc: 0.9800\n",
      "Epoch 5/5\n",
      "50000/50000 [==============================] - 292s - loss: 0.0062 - acc: 0.9658 - val_loss: 0.0028 - val_acc: 0.9830\n"
     ]
    },
    {
     "data": {
      "text/plain": [
       "<keras.callbacks.History at 0x1d6f61f82b0>"
      ]
     },
     "execution_count": 8,
     "metadata": {},
     "output_type": "execute_result"
    }
   ],
   "source": [
    "import keras\n",
    "from keras.models import Sequential\n",
    "from keras.layers import Dense, Dropout, Flatten\n",
    "from keras.layers import Conv2D, MaxPooling2D\n",
    "from keras.optimizers import SGD\n",
    "\n",
    "model = Sequential()\n",
    "# input: 28x28 images with gray scale\n",
    "# this applies 32 convolution filters of size 3x3 each.\n",
    "model.add(Conv2D(32, (3, 3), activation='relu', input_shape=(28, 28, 1)))\n",
    "model.add(Conv2D(32, (3, 3), activation='relu'))\n",
    "model.add(MaxPooling2D(pool_size=(2, 2)))\n",
    "model.add(Dropout(0.25))\n",
    "\n",
    "model.add(Conv2D(64, (3, 3), activation='relu'))\n",
    "model.add(Conv2D(64, (3, 3), activation='relu'))\n",
    "model.add(MaxPooling2D(pool_size=(2, 2)))\n",
    "model.add(Dropout(0.25))\n",
    "\n",
    "model.add(Flatten())\n",
    "model.add(Dense(256, activation='relu'))\n",
    "model.add(Dropout(0.5))\n",
    "model.add(Dense(10, activation='sigmoid'))\n",
    "\n",
    "sgd = SGD(lr=0.01, decay=1e-6, momentum=0.9, nesterov=True)\n",
    "model.compile(loss='mean_squared_error', optimizer=sgd, metrics=['accuracy'])\n",
    "\n",
    "model.fit(X, y, batch_size=10, epochs=5, validation_data=(X_val, y_val))\n"
   ]
  },
  {
   "cell_type": "code",
   "execution_count": null,
   "metadata": {},
   "outputs": [
    {
     "name": "stdout",
     "output_type": "stream",
     "text": [
      " 6464/10000 [==================>...........] - ETA: 4s"
     ]
    }
   ],
   "source": [
    "score = model.evaluate(X_test, y_test, batch_size=32)\n",
    "score"
   ]
  },
  {
   "cell_type": "code",
   "execution_count": null,
   "metadata": {
    "collapsed": true
   },
   "outputs": [],
   "source": []
  }
 ],
 "metadata": {
  "kernelspec": {
   "display_name": "Python 3",
   "language": "python",
   "name": "python3"
  },
  "language_info": {
   "codemirror_mode": {
    "name": "ipython",
    "version": 3
   },
   "file_extension": ".py",
   "mimetype": "text/x-python",
   "name": "python",
   "nbconvert_exporter": "python",
   "pygments_lexer": "ipython3",
   "version": "3.6.1"
  }
 },
 "nbformat": 4,
 "nbformat_minor": 1
}
