{
 "cells": [
  {
   "cell_type": "code",
   "execution_count": 1,
   "metadata": {},
   "outputs": [
    {
     "name": "stderr",
     "output_type": "stream",
     "text": [
      "Using TensorFlow backend.\n"
     ]
    }
   ],
   "source": [
    "import numpy as np\n",
    "from keras.models import Sequential\n",
    "from keras.layers import Dense, Activation\n",
    "from keras import optimizers\n",
    "import matplotlib.pyplot as plt\n",
    "import mnist_loader\n",
    "\n",
    "training_data, training_labels, validation_data, validation_labels, test_data, test_labels = mnist_loader.load_data_keras()"
   ]
  },
  {
   "cell_type": "code",
   "execution_count": 2,
   "metadata": {},
   "outputs": [
    {
     "name": "stdout",
     "output_type": "stream",
     "text": [
      "Train on 50000 samples, validate on 10000 samples\n",
      "Epoch 1/10\n",
      "50000/50000 [==============================] - 7s - loss: 0.0224 - acc: 0.8714 - val_loss: 0.0120 - val_acc: 0.9292\n",
      "Epoch 2/10\n",
      "50000/50000 [==============================] - 6s - loss: 0.0120 - acc: 0.9298 - val_loss: 0.0103 - val_acc: 0.9417\n",
      "Epoch 3/10\n",
      "50000/50000 [==============================] - 7s - loss: 0.0102 - acc: 0.9410 - val_loss: 0.0088 - val_acc: 0.9489ss: 0.010 - ETA: 1\n",
      "Epoch 4/10\n",
      "50000/50000 [==============================] - 8s - loss: 0.0091 - acc: 0.9475 - val_loss: 0.0087 - val_acc: 0.9508\n",
      "Epoch 5/10\n",
      "50000/50000 [==============================] - 7s - loss: 0.0084 - acc: 0.9522 - val_loss: 0.0079 - val_acc: 0.9544\n",
      "Epoch 6/10\n",
      "50000/50000 [==============================] - 6s - loss: 0.0078 - acc: 0.9554 - val_loss: 0.0078 - val_acc: 0.9556\n",
      "Epoch 7/10\n",
      "50000/50000 [==============================] - 7s - loss: 0.0074 - acc: 0.9582 - val_loss: 0.0074 - val_acc: 0.9585\n",
      "Epoch 8/10\n",
      "50000/50000 [==============================] - 9s - loss: 0.0070 - acc: 0.9606 - val_loss: 0.0072 - val_acc: 0.9584\n",
      "Epoch 9/10\n",
      "50000/50000 [==============================] - 11s - loss: 0.0067 - acc: 0.9623 - val_loss: 0.0070 - val_acc: 0.9592\n",
      "Epoch 10/10\n",
      "50000/50000 [==============================] - 10s - loss: 0.0065 - acc: 0.9643 - val_loss: 0.0071 - val_acc: 0.9593\n"
     ]
    },
    {
     "data": {
      "text/plain": [
       "<keras.callbacks.History at 0x1f7c72f2fd0>"
      ]
     },
     "execution_count": 2,
     "metadata": {},
     "output_type": "execute_result"
    }
   ],
   "source": [
    "sgd = optimizers.SGD(lr=3.0)\n",
    "model = Sequential([Dense(30, input_dim=784), Activation('sigmoid'), Dense(10), Activation('sigmoid')])\n",
    "model.compile(loss='mean_squared_error', optimizer=sgd, metrics=['accuracy'])\n",
    "model.fit(training_data, training_labels, validation_data=(validation_data, validation_labels), epochs=10, batch_size=10)"
   ]
  },
  {
   "cell_type": "code",
   "execution_count": 3,
   "metadata": {},
   "outputs": [
    {
     "name": "stdout",
     "output_type": "stream",
     "text": [
      " 9720/10000 [============================>.] - ETA: 0s"
     ]
    },
    {
     "data": {
      "text/plain": [
       "[0.0074115381903511659, 0.95759999483823777]"
      ]
     },
     "execution_count": 3,
     "metadata": {},
     "output_type": "execute_result"
    }
   ],
   "source": [
    "score = model.evaluate(test_data, test_labels, batch_size=10)\n",
    "score"
   ]
  },
  {
   "cell_type": "code",
   "execution_count": null,
   "metadata": {
    "collapsed": true
   },
   "outputs": [],
   "source": []
  }
 ],
 "metadata": {
  "kernelspec": {
   "display_name": "Python 3",
   "language": "python",
   "name": "python3"
  },
  "language_info": {
   "codemirror_mode": {
    "name": "ipython",
    "version": 3
   },
   "file_extension": ".py",
   "mimetype": "text/x-python",
   "name": "python",
   "nbconvert_exporter": "python",
   "pygments_lexer": "ipython3",
   "version": "3.6.1"
  }
 },
 "nbformat": 4,
 "nbformat_minor": 1
}
