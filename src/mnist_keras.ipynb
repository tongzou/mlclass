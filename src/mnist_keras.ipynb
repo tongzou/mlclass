{
 "cells": [
  {
   "cell_type": "code",
   "execution_count": 1,
   "metadata": {},
   "outputs": [
    {
     "name": "stderr",
     "output_type": "stream",
     "text": [
      "Using TensorFlow backend.\n"
     ]
    }
   ],
   "source": [
    "import numpy as np\n",
    "from keras.models import Sequential\n",
    "from keras.layers import Dense, Activation\n",
    "from keras import optimizers\n",
    "import matplotlib.pyplot as plt\n",
    "import mnist_loader\n",
    "\n",
    "training_data, training_labels, validation_data, validation_labels, test_data, test_labels = mnist_loader.load_data_keras()"
   ]
  },
  {
   "cell_type": "code",
   "execution_count": 2,
   "metadata": {},
   "outputs": [
    {
     "name": "stdout",
     "output_type": "stream",
     "text": [
      "Train on 50000 samples, validate on 10000 samples\n",
      "Epoch 1/10\n",
      "50000/50000 [==============================] - 7s - loss: 0.0222 - acc: 0.8754 - val_loss: 0.0121 - val_acc: 0.9319\n",
      "Epoch 2/10\n",
      "50000/50000 [==============================] - 7s - loss: 0.0122 - acc: 0.9294 - val_loss: 0.0104 - val_acc: 0.9416\n",
      "Epoch 3/10\n",
      "50000/50000 [==============================] - 7s - loss: 0.0103 - acc: 0.9411 - val_loss: 0.0090 - val_acc: 0.9479\n",
      "Epoch 4/10\n",
      "50000/50000 [==============================] - 7s - loss: 0.0092 - acc: 0.9471 - val_loss: 0.0086 - val_acc: 0.9517\n",
      "Epoch 5/10\n",
      "50000/50000 [==============================] - 7s - loss: 0.0085 - acc: 0.9516 - val_loss: 0.0079 - val_acc: 0.9550\n",
      "Epoch 6/10\n",
      "50000/50000 [==============================] - 7s - loss: 0.0080 - acc: 0.9553 - val_loss: 0.0077 - val_acc: 0.9561\n",
      "Epoch 7/10\n",
      "50000/50000 [==============================] - 7s - loss: 0.0076 - acc: 0.9578 - val_loss: 0.0077 - val_acc: 0.9576\n",
      "Epoch 8/10\n",
      "50000/50000 [==============================] - 7s - loss: 0.0072 - acc: 0.9599 - val_loss: 0.0075 - val_acc: 0.9578\n",
      "Epoch 9/10\n",
      "50000/50000 [==============================] - 7s - loss: 0.0069 - acc: 0.9619 - val_loss: 0.0074 - val_acc: 0.9587\n",
      "Epoch 10/10\n",
      "50000/50000 [==============================] - 7s - loss: 0.0066 - acc: 0.9636 - val_loss: 0.0072 - val_acc: 0.9582\n"
     ]
    },
    {
     "data": {
      "text/plain": [
       "<keras.callbacks.History at 0x14ebe491f98>"
      ]
     },
     "execution_count": 2,
     "metadata": {},
     "output_type": "execute_result"
    }
   ],
   "source": [
    "sgd = optimizers.SGD(lr=3.0)\n",
    "model = Sequential([Dense(30, input_dim=784), Activation('sigmoid'), Dense(10), Activation('sigmoid')])\n",
    "model.compile(loss='mean_squared_error', optimizer=sgd, metrics=['accuracy'])\n",
    "model.fit(training_data, training_labels, validation_data=(validation_data, validation_labels), epochs=10, batch_size=10)"
   ]
  },
  {
   "cell_type": "code",
   "execution_count": 3,
   "metadata": {},
   "outputs": [
    {
     "name": "stdout",
     "output_type": "stream",
     "text": [
      " 9580/10000 [===========================>..] - ETA: 0s"
     ]
    },
    {
     "data": {
      "text/plain": [
       "[0.0077221256343618736, 0.95519999504089359]"
      ]
     },
     "execution_count": 3,
     "metadata": {},
     "output_type": "execute_result"
    }
   ],
   "source": [
    "score = model.evaluate(test_data, test_labels, batch_size=10)\n",
    "score"
   ]
  },
  {
   "cell_type": "code",
   "execution_count": null,
   "metadata": {
    "collapsed": true
   },
   "outputs": [],
   "source": []
  }
 ],
 "metadata": {
  "kernelspec": {
   "display_name": "Python 3",
   "language": "python",
   "name": "python3"
  },
  "language_info": {
   "codemirror_mode": {
    "name": "ipython",
    "version": 3
   },
   "file_extension": ".py",
   "mimetype": "text/x-python",
   "name": "python",
   "nbconvert_exporter": "python",
   "pygments_lexer": "ipython3",
   "version": "3.6.1"
  }
 },
 "nbformat": 4,
 "nbformat_minor": 1
}
